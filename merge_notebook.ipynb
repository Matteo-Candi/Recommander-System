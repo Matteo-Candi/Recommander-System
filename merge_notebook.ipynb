{
 "cells": [
  {
   "cell_type": "code",
   "execution_count": 1,
   "metadata": {},
   "outputs": [
    {
     "name": "stderr",
     "output_type": "stream",
     "text": [
      "c:\\Users\\mcm23\\anaconda3\\lib\\site-packages\\nbformat\\__init__.py:128: MissingIDFieldWarning: Code cell is missing an id field, this will become a hard error in future nbformat versions. You may want to use `normalize()` on your notebooks before validations (available since nbformat 5.1.4). Previous versions of nbformat are fixing this issue transparently, and will stop doing so in the future.\n",
      "  validate(nb)\n"
     ]
    }
   ],
   "source": [
    "import nbformat\n",
    "\n",
    "# Reading the notebooks\n",
    "first_notebook = nbformat.read('Dati.ipynb', 4)\n",
    "second_notebook = nbformat.read('Recommandetion System.ipynb', 4)\n",
    "#third_notebook = nbformat.read('mapred_kmeans.ipynb', 4)\n",
    "\n",
    "# Creating a new notebook\n",
    "final_notebook = nbformat.v4.new_notebook(metadata=first_notebook.metadata)\n",
    "\n",
    "# Concatenating the notebooks\n",
    "final_notebook.cells = first_notebook.cells + second_notebook.cells\n",
    "\n",
    "# Saving the new notebook \n",
    "nbformat.write(final_notebook, 'Progetto.ipynb')"
   ]
  }
 ],
 "metadata": {
  "kernelspec": {
   "display_name": "Python 3",
   "language": "python",
   "name": "python3"
  },
  "language_info": {
   "codemirror_mode": {
    "name": "ipython",
    "version": 3
   },
   "file_extension": ".py",
   "mimetype": "text/x-python",
   "name": "python",
   "nbconvert_exporter": "python",
   "pygments_lexer": "ipython3",
   "version": "3.10.9 (tags/v3.10.9:1dd9be6, Dec  6 2022, 20:01:21) [MSC v.1934 64 bit (AMD64)]"
  },
  "orig_nbformat": 4,
  "vscode": {
   "interpreter": {
    "hash": "773286f42bdafd8588749582ed653d25b280a530e585f5f155cb0082e5f8cdaa"
   }
  }
 },
 "nbformat": 4,
 "nbformat_minor": 2
}
